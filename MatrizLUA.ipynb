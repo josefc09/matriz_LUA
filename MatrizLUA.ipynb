{
  "nbformat": 4,
  "nbformat_minor": 0,
  "metadata": {
    "colab": {
      "provenance": []
    },
    "kernelspec": {
      "name": "python3",
      "display_name": "Python 3"
    }
  },
  "cells": [
    {
      "cell_type": "code",
      "metadata": {
        "id": "d3UQ-9GeBv6G",
        "colab": {
          "base_uri": "https://localhost:8080/"
        },
        "outputId": "6e7962bd-7b1a-4566-ed15-ca72fc636f8f"
      },
      "source": [
        "import numpy as np\n",
        "from past.builtins import xrange\n",
        "from cmath import e\n",
        "\n",
        "def crout(A):\n",
        "    n = len(A)\n",
        "    L = [[0] * n for i in xrange(n)]\n",
        "    U = [[0] * n for i in xrange(n)]\n",
        "    for j in xrange(n):\n",
        "        U[j][j] = 1\n",
        "        for i in xrange(j, n):\n",
        "            alpha = float(A[i][j])\n",
        "            for k in xrange(j):\n",
        "                alpha -= L[i][k]*U[k][j]\n",
        "            L[i][j] = alpha\n",
        "        for i in xrange(j+1, n):\n",
        "            tempU = float(A[j][i])\n",
        "            for k in xrange(j):\n",
        "                tempU -= L[j][k]*U[k][i]\n",
        "            if int(L[j][j]) == 0:\n",
        "                L[j][j] = e-40\n",
        "            U[j][i] = tempU/L[j][j]\n",
        "    return L, U\n",
        "\n",
        "\n",
        "\n",
        "\n",
        "def C(A,B):\n",
        "\n",
        "    C = np.zeros((3, 4))\n",
        "\n",
        "\n",
        "    for i in range(0,3,1):\n",
        "        for j in range(0,4,1):\n",
        "          if j==3:\n",
        "            C[i,j]=B[0][i]\n",
        "          else:\n",
        "            C[i,j]=A[i,j]\n",
        "\n",
        "    return C\n",
        "\n",
        "\n",
        "\n",
        "\n",
        "A = np.array([[-6, 3,-4,-3], [ 4,-7,-3, 2], [ 6,-8, 4, 4],[ 7,-1, 3,-1]])\n",
        "\n",
        "b1 = np.array([[-35, 10,50,25]])\n",
        "b2 = np.array([[(1/2), (5/4),-2,2]])\n",
        "b3 = np.array([[-2, -32,-6,10]])\n",
        "\n",
        "LU = crout(A)\n",
        "\n",
        "C1 = C(A,b1)\n",
        "C2 = C(A,b2)\n",
        "C3 = C(A,b3)\n",
        "\n",
        "print(\"A Value\")\n",
        "print(A)\n",
        "\n",
        "print(\"L Value\")\n",
        "print(LU[0])\n",
        "\n",
        "print(\"U Value\")\n",
        "print(LU[1])\n",
        "\n",
        "print(\"C1 Value\")\n",
        "print(C1)\n",
        "\n",
        "print(\"C2 Value\")\n",
        "print(C2)\n",
        "\n",
        "print(\"C3 Value\")\n",
        "print(C3)\n",
        "\n"
      ],
      "execution_count": 1,
      "outputs": [
        {
          "output_type": "stream",
          "name": "stdout",
          "text": [
            "A Value\n",
            "[[-6  3 -4 -3]\n",
            " [ 4 -7 -3  2]\n",
            " [ 6 -8  4  4]\n",
            " [ 7 -1  3 -1]]\n",
            "L Value\n",
            "[[-6.0, 0, 0, 0], [4.0, -5.0, 0, 0], [6.0, -5.0, 5.666666666666666, 0], [7.0, 2.5, -4.499999999999999, -3.7058823529411766]]\n",
            "U Value\n",
            "[[1, -0.5, 0.6666666666666666, 0.5], [0, 1, 1.1333333333333333, -0.0], [0, 0, 1, 0.17647058823529413], [0, 0, 0, 1]]\n",
            "C1 Value\n",
            "[[ -6.   3.  -4. -35.]\n",
            " [  4.  -7.  -3.  10.]\n",
            " [  6.  -8.   4.  50.]]\n",
            "C2 Value\n",
            "[[-6.    3.   -4.    0.5 ]\n",
            " [ 4.   -7.   -3.    1.25]\n",
            " [ 6.   -8.    4.   -2.  ]]\n",
            "C3 Value\n",
            "[[ -6.   3.  -4.  -2.]\n",
            " [  4.  -7.  -3. -32.]\n",
            " [  6.  -8.   4.  -6.]]\n"
          ]
        }
      ]
    },
    {
      "cell_type": "code",
      "metadata": {
        "id": "Lg6b-dtB7m1i",
        "colab": {
          "base_uri": "https://localhost:8080/"
        },
        "outputId": "3ffe7426-d2c0-4cc6-e471-ae02a565a139"
      },
      "source": [
        "import numpy as np\n",
        "\n",
        "A = np.matrix([[-6, 3,-4,-3], [ 4,-7,-3, 2], [ 6,-8, 4, 4],[ 7,-1, 3,-1]])\n",
        "\n",
        "b1 = np.matrix([[-35], [10],[50],[25]])\n",
        "b2 = np.matrix([[(1/2)], [(5/4)],[-2],[2]])\n",
        "b3 = np.matrix([[-2],[-32],[-6],[10]])\n",
        "\n",
        "Xb1 = A**(-1)*b1\n",
        "Xb2 = A**(-1)*b2\n",
        "Xb3 = A**(-1)*b3\n",
        "\n",
        "print(\"El resultado de X es:\",Xb1)\n",
        "print(\"El resultado de X es:\",Xb2)\n",
        "print(\"El resultado de X es:\",Xb3)\n",
        "\n",
        "#To verify the result, X*A is calculated and it must give B\n",
        "#print(\"The result of A*X is B -> \", A * Xb3)"
      ],
      "execution_count": 4,
      "outputs": [
        {
          "output_type": "stream",
          "name": "stdout",
          "text": [
            "El resultado de X es: [[ 1.00000000e+00]\n",
            " [-3.00000000e+00]\n",
            " [ 5.00000000e+00]\n",
            " [-1.77635684e-15]]\n",
            "El resultado de X es: [[ 0.5 ]\n",
            " [ 0.25]\n",
            " [-0.5 ]\n",
            " [-0.25]]\n",
            "El resultado de X es: [[-1.]\n",
            " [ 1.]\n",
            " [ 5.]\n",
            " [-3.]]\n"
          ]
        }
      ]
    }
  ]
}